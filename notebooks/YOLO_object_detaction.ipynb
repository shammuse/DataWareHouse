{
 "cells": [
  {
   "cell_type": "markdown",
   "metadata": {},
   "source": [
    "## Object detaction using YOLOv5"
   ]
  },
  {
   "cell_type": "markdown",
   "metadata": {},
   "source": [
    "### Import Required Libraries and Set Up Environment"
   ]
  },
  {
   "cell_type": "code",
   "execution_count": 4,
   "metadata": {},
   "outputs": [],
   "source": [
    "# Import necessary libraries\n",
    "import os\n",
    "import sys\n",
    "import torch\n",
    "import cv2\n",
    "import pandas as pd\n",
    "from datetime import datetime\n",
    "\n",
    "# Set the current directory\n",
    "current_dir = os.getcwd()\n",
    "# Append the parent directory to sys.path\n",
    "parent_dir = os.path.dirname(current_dir)\n",
    "sys.path.append(parent_dir)\n",
    "\n",
    "# ignore warrnings\n",
    "import warnings\n",
    "warnings.filterwarnings(\"ignore\")"
   ]
  },
  {
   "cell_type": "markdown",
   "metadata": {},
   "source": [
    "#### Import YOLO Object Detection Functions"
   ]
  },
  {
   "cell_type": "code",
   "execution_count": 5,
   "metadata": {},
   "outputs": [],
   "source": [
    "# Import YOLO object detection functions from the custom scripts\n",
    "from scripts.YOLO_object_detection import load_yolo_model,process_images, save_detections_to_csv"
   ]
  },
  {
   "cell_type": "markdown",
   "metadata": {},
   "source": [
    "#### Load YOLO Model and Set Image Paths"
   ]
  },
  {
   "cell_type": "code",
   "execution_count": 1,
   "metadata": {},
   "outputs": [
    {
     "ename": "NameError",
     "evalue": "name 'load_yolo_model' is not defined",
     "output_type": "error",
     "traceback": [
      "\u001b[1;31m---------------------------------------------------------------------------\u001b[0m",
      "\u001b[1;31mNameError\u001b[0m                                 Traceback (most recent call last)",
      "Cell \u001b[1;32mIn[1], line 2\u001b[0m\n\u001b[0;32m      1\u001b[0m \u001b[38;5;66;03m# Load the YOLO model for object detection\u001b[39;00m\n\u001b[1;32m----> 2\u001b[0m model \u001b[38;5;241m=\u001b[39m \u001b[43mload_yolo_model\u001b[49m()\n\u001b[0;32m      4\u001b[0m \u001b[38;5;66;03m# Define the folder containing images and the output folder for detection results\u001b[39;00m\n\u001b[0;32m      5\u001b[0m image_folder \u001b[38;5;241m=\u001b[39m \u001b[38;5;124m'\u001b[39m\u001b[38;5;124m../data/photos\u001b[39m\u001b[38;5;124m'\u001b[39m\n",
      "\u001b[1;31mNameError\u001b[0m: name 'load_yolo_model' is not defined"
     ]
    }
   ],
   "source": [
    "# Load the YOLO model for object detection\n",
    "model = load_yolo_model()\n",
    "\n",
    "# Define the folder containing images and the output folder for detection results\n",
    "image_folder = '../data/photos'\n",
    "output_folder = '../data/detaction_results'"
   ]
  },
  {
   "cell_type": "markdown",
   "metadata": {},
   "source": [
    "#### Process Images for Object Detection and Save Results"
   ]
  },
  {
   "cell_type": "code",
   "execution_count": null,
   "metadata": {},
   "outputs": [],
   "source": [
    "# Process the images in the specified folder for object detection\n",
    "detection_data = process_images(model, image_folder, output_folder)\n",
    "\n",
    "# Save the detection results to a CSV file in the output folder\n",
    "save_detections_to_csv(detection_data, output_folder)"
   ]
  },
  {
   "cell_type": "markdown",
   "metadata": {},
   "source": [
    "#### Load Detection Results from CSV"
   ]
  },
  {
   "cell_type": "code",
   "execution_count": null,
   "metadata": {},
   "outputs": [],
   "source": [
    "# Load the detection results from the CSV file into a Pandas DataFrame\n",
    "df = pd.read_csv('../data/detaction_results/detections.csv')"
   ]
  },
  {
   "cell_type": "code",
   "execution_count": null,
   "metadata": {},
   "outputs": [],
   "source": [
    "df.head()"
   ]
  },
  {
   "cell_type": "markdown",
   "metadata": {},
   "source": [
    "#### Insert Detected image result into a Postgres "
   ]
  },
  {
   "cell_type": "code",
   "execution_count": null,
   "metadata": {},
   "outputs": [],
   "source": [
    "# Import functions for database connection and inserting detection data\n",
    "from database.database_connection import get_db_connection, insert_detection_data"
   ]
  },
  {
   "cell_type": "markdown",
   "metadata": {},
   "source": [
    "#### Connect database"
   ]
  },
  {
   "cell_type": "code",
   "execution_count": null,
   "metadata": {},
   "outputs": [],
   "source": [
    "get_db_connection()"
   ]
  },
  {
   "cell_type": "code",
   "execution_count": null,
   "metadata": {},
   "outputs": [],
   "source": [
    "# Insert the detection data from the DataFrame into the database\n",
    "insert_detection_data(df)"
   ]
  },
  {
   "cell_type": "markdown",
   "metadata": {},
   "source": [
    "---\n",
    "## Image Detection and Database Insertion Summary\n",
    "\n",
    "### Overview\n",
    "This task involves using a YOLO (You Only Look Once) object detection model to process images, extract detection results, and insert those results into a database for further analysis.\n",
    "\n",
    "### Steps\n",
    "\n",
    "1. **Import Libraries**: Necessary libraries for image processing, object detection, and database interaction are imported.\n",
    "   \n",
    "2. **Load YOLO Model**: The YOLO model is loaded for object detection tasks.\n",
    "\n",
    "3. **Set Paths**: Paths for the input image folder and output detection results folder are defined.\n",
    "\n",
    "4. **Process Images**: \n",
    "   - The images in the specified folder are processed using the loaded YOLO model to detect objects.\n",
    "   - Detection results are saved in a CSV file.\n",
    "\n",
    "5. **Load Detection Results**: The detection results are loaded into a Pandas DataFrame from the CSV file for further manipulation or analysis.\n",
    "\n",
    "6. **Database Connection**: A connection to the database is established to prepare for data insertion.\n",
    "\n",
    "7. **Insert Data**: The detection data from the DataFrame is inserted into the database for persistent storage.\n",
    "\n",
    "### Conclusion\n",
    "This workflow enables efficient object detection from images and ensures that the results are systematically stored in a database for future reference or analysis."
   ]
  },
  {
   "cell_type": "code",
   "execution_count": null,
   "metadata": {},
   "outputs": [],
   "source": []
  }
 ],
 "metadata": {
  "kernelspec": {
   "display_name": "Python 3 (ipykernel)",
   "language": "python",
   "name": "python3"
  },
  "language_info": {
   "codemirror_mode": {
    "name": "ipython",
    "version": 3
   },
   "file_extension": ".py",
   "mimetype": "text/x-python",
   "name": "python",
   "nbconvert_exporter": "python",
   "pygments_lexer": "ipython3",
   "version": "3.11.5"
  }
 },
 "nbformat": 4,
 "nbformat_minor": 4
}
