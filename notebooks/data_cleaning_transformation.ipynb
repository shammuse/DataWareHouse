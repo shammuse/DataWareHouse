{
 "cells": [
  {
   "cell_type": "markdown",
   "metadata": {},
   "source": [
    "###  Task 2 Data cleaning and transformation"
   ]
  },
  {
   "cell_type": "code",
   "execution_count": 1,
   "metadata": {},
   "outputs": [],
   "source": [
    "# Import required modules\n",
    "import os\n",
    "import sys\n",
    "import pandas as pd\n",
    "from dotenv import load_dotenv\n",
    "\n",
    "current_dir = os.getcwd()\n",
    "# Append the parent directory to sys.path\n",
    "parent_dir = os.path.dirname(current_dir)\n",
    "sys.path.append(parent_dir)\n",
    "\n",
    "# ignore warrnings\n",
    "import warnings"
   ]
  },
  {
   "cell_type": "markdown",
   "metadata": {},
   "source": [
    "#### Import Database and Data Cleaning Utilities"
   ]
  },
  {
   "cell_type": "code",
   "execution_count": 2,
   "metadata": {},
   "outputs": [],
   "source": [
    "# Import function to insert DataFrame into the database and data cleaning class\n",
    "from database.database_connection import insert_dataframe_to_db\n",
    "from database.database_connection import insert_detection_data\n",
    "from database.database_connection import create_tables\n",
    "from scripts.data_cleaning import DataCleaner"
   ]
  },
  {
   "cell_type": "markdown",
   "metadata": {},
   "source": [
    "#### Load Scraped Telegram Messages"
   ]
  },
  {
   "cell_type": "code",
   "execution_count": 3,
   "metadata": {},
   "outputs": [],
   "source": [
    "# Load the scraped Telegram messages from a CSV file into a DataFrame\n",
    "df = pd.read_csv('../data/scraped_telegram_messages.csv')"
   ]
  },
  {
   "cell_type": "code",
   "execution_count": 4,
   "metadata": {},
   "outputs": [
    {
     "data": {
      "text/html": [
       "<div>\n",
       "<style scoped>\n",
       "    .dataframe tbody tr th:only-of-type {\n",
       "        vertical-align: middle;\n",
       "    }\n",
       "\n",
       "    .dataframe tbody tr th {\n",
       "        vertical-align: top;\n",
       "    }\n",
       "\n",
       "    .dataframe thead th {\n",
       "        text-align: right;\n",
       "    }\n",
       "</style>\n",
       "<table border=\"1\" class=\"dataframe\">\n",
       "  <thead>\n",
       "    <tr style=\"text-align: right;\">\n",
       "      <th></th>\n",
       "      <th>message_id</th>\n",
       "      <th>text</th>\n",
       "      <th>sender</th>\n",
       "      <th>channel</th>\n",
       "      <th>date</th>\n",
       "    </tr>\n",
       "  </thead>\n",
       "  <tbody>\n",
       "    <tr>\n",
       "      <th>0</th>\n",
       "      <td>DoctorsET_864</td>\n",
       "      <td>https://youtu.be/5DBoEm-8kmA?si=LDLuEecNfULJVD...</td>\n",
       "      <td>-1001102021238</td>\n",
       "      <td>DoctorsET</td>\n",
       "      <td>2023-12-18 17:04:02+00:00</td>\n",
       "    </tr>\n",
       "    <tr>\n",
       "      <th>1</th>\n",
       "      <td>DoctorsET_863</td>\n",
       "      <td>ዶክተርስ ኢትዮጵያ በ አዲስ አቀራረብ በ ቴሌቪዥን ፕሮግራሙን ለመጀመር ከ...</td>\n",
       "      <td>-1001102021238</td>\n",
       "      <td>DoctorsET</td>\n",
       "      <td>2023-11-03 16:14:39+00:00</td>\n",
       "    </tr>\n",
       "    <tr>\n",
       "      <th>2</th>\n",
       "      <td>DoctorsET_862</td>\n",
       "      <td>ሞት በስኳር \\n\\nለልጆቻችን የምናሲዘው ምሳቃ ሳናቀው እድሚያቸውን ይቀን...</td>\n",
       "      <td>-1001102021238</td>\n",
       "      <td>DoctorsET</td>\n",
       "      <td>2023-10-02 16:37:39+00:00</td>\n",
       "    </tr>\n",
       "    <tr>\n",
       "      <th>3</th>\n",
       "      <td>DoctorsET_861</td>\n",
       "      <td>ከ HIV የተፈወሰ ሰው አጋጥሟችሁ ያቃል ? ፈውስ እና ህክምና ?\\n\\nሙ...</td>\n",
       "      <td>-1001102021238</td>\n",
       "      <td>DoctorsET</td>\n",
       "      <td>2023-09-16 07:54:32+00:00</td>\n",
       "    </tr>\n",
       "    <tr>\n",
       "      <th>4</th>\n",
       "      <td>DoctorsET_860</td>\n",
       "      <td>በቅርብ ጊዜ በሃገራችን ላይ እየተስተዋለ ያለ የተመሳሳይ ፆታ ( Homos...</td>\n",
       "      <td>-1001102021238</td>\n",
       "      <td>DoctorsET</td>\n",
       "      <td>2023-09-01 16:16:15+00:00</td>\n",
       "    </tr>\n",
       "  </tbody>\n",
       "</table>\n",
       "</div>"
      ],
      "text/plain": [
       "      message_id                                               text  \\\n",
       "0  DoctorsET_864  https://youtu.be/5DBoEm-8kmA?si=LDLuEecNfULJVD...   \n",
       "1  DoctorsET_863  ዶክተርስ ኢትዮጵያ በ አዲስ አቀራረብ በ ቴሌቪዥን ፕሮግራሙን ለመጀመር ከ...   \n",
       "2  DoctorsET_862  ሞት በስኳር \\n\\nለልጆቻችን የምናሲዘው ምሳቃ ሳናቀው እድሚያቸውን ይቀን...   \n",
       "3  DoctorsET_861  ከ HIV የተፈወሰ ሰው አጋጥሟችሁ ያቃል ? ፈውስ እና ህክምና ?\\n\\nሙ...   \n",
       "4  DoctorsET_860  በቅርብ ጊዜ በሃገራችን ላይ እየተስተዋለ ያለ የተመሳሳይ ፆታ ( Homos...   \n",
       "\n",
       "          sender    channel                       date  \n",
       "0 -1001102021238  DoctorsET  2023-12-18 17:04:02+00:00  \n",
       "1 -1001102021238  DoctorsET  2023-11-03 16:14:39+00:00  \n",
       "2 -1001102021238  DoctorsET  2023-10-02 16:37:39+00:00  \n",
       "3 -1001102021238  DoctorsET  2023-09-16 07:54:32+00:00  \n",
       "4 -1001102021238  DoctorsET  2023-09-01 16:16:15+00:00  "
      ]
     },
     "execution_count": 4,
     "metadata": {},
     "output_type": "execute_result"
    }
   ],
   "source": [
    "df.head()"
   ]
  },
  {
   "cell_type": "markdown",
   "metadata": {},
   "source": [
    "#### Initialize DataCleaner with the Scraped Data"
   ]
  },
  {
   "cell_type": "code",
   "execution_count": 5,
   "metadata": {},
   "outputs": [],
   "source": [
    "# Initialize the DataCleaner class with the loaded DataFrame\n",
    "DataCleaner = DataCleaner(df)"
   ]
  },
  {
   "cell_type": "markdown",
   "metadata": {},
   "source": [
    "### `Removing Duplicates`"
   ]
  },
  {
   "cell_type": "code",
   "execution_count": 6,
   "metadata": {},
   "outputs": [
    {
     "name": "stderr",
     "output_type": "stream",
     "text": [
      "2025-01-31 02:06:40,714 - INFO - Removed 0 duplicate rows.\n"
     ]
    }
   ],
   "source": [
    "# Remove duplicate rows from the DataFrame using the DataCleaner class\n",
    "cleand_df = DataCleaner.remove_duplicates()"
   ]
  },
  {
   "cell_type": "markdown",
   "metadata": {},
   "source": [
    "## Handling Missing Values"
   ]
  },
  {
   "cell_type": "code",
   "execution_count": 7,
   "metadata": {},
   "outputs": [
    {
     "name": "stderr",
     "output_type": "stream",
     "text": [
      "2025-01-31 02:06:40,724 - INFO - Removed 1251 rows due to missing values.\n"
     ]
    }
   ],
   "source": [
    "# Handle missing values in the DataFrame using the DataCleaner class\n",
    "DataCleaner.handle_missing_values()"
   ]
  },
  {
   "cell_type": "markdown",
   "metadata": {},
   "source": [
    "## Standardizing Formats"
   ]
  },
  {
   "cell_type": "code",
   "execution_count": 8,
   "metadata": {},
   "outputs": [
    {
     "name": "stderr",
     "output_type": "stream",
     "text": [
      "2025-01-31 02:06:40,739 - INFO - Standardized date formats and cleaned text fields.\n"
     ]
    }
   ],
   "source": [
    "DataCleaner.standazrdize_formats()"
   ]
  },
  {
   "cell_type": "markdown",
   "metadata": {},
   "source": [
    "## Data Validation "
   ]
  },
  {
   "cell_type": "code",
   "execution_count": 9,
   "metadata": {},
   "outputs": [
    {
     "name": "stderr",
     "output_type": "stream",
     "text": [
      "2025-01-31 02:06:40,745 - INFO - Data validation completed.\n"
     ]
    }
   ],
   "source": [
    "# Validate the data in the DataFrame using the DataCleaner class\n",
    "DataCleaner.validate_data()"
   ]
  },
  {
   "cell_type": "markdown",
   "metadata": {},
   "source": [
    "## Storing Cleaned Data"
   ]
  },
  {
   "cell_type": "code",
   "execution_count": 10,
   "metadata": {},
   "outputs": [
    {
     "name": "stderr",
     "output_type": "stream",
     "text": [
      "2025-01-31 02:06:40,795 - INFO - Cleaned data stored in ../data/cleaned_data.csv\n"
     ]
    }
   ],
   "source": [
    "# Save the cleaned data to a CSV file using the DataCleaner class\n",
    "DataCleaner.store_cleaned_data('../data/cleaned_data.csv')"
   ]
  },
  {
   "cell_type": "code",
   "execution_count": 11,
   "metadata": {},
   "outputs": [],
   "source": [
    "# Retrieve the cleaned DataFrame from the DataCleaner class\n",
    "final_df = DataCleaner.get_cleaned_data()"
   ]
  },
  {
   "cell_type": "code",
   "execution_count": 12,
   "metadata": {},
   "outputs": [
    {
     "data": {
      "text/html": [
       "<div>\n",
       "<style scoped>\n",
       "    .dataframe tbody tr th:only-of-type {\n",
       "        vertical-align: middle;\n",
       "    }\n",
       "\n",
       "    .dataframe tbody tr th {\n",
       "        vertical-align: top;\n",
       "    }\n",
       "\n",
       "    .dataframe thead th {\n",
       "        text-align: right;\n",
       "    }\n",
       "</style>\n",
       "<table border=\"1\" class=\"dataframe\">\n",
       "  <thead>\n",
       "    <tr style=\"text-align: right;\">\n",
       "      <th></th>\n",
       "      <th>message_id</th>\n",
       "      <th>text</th>\n",
       "      <th>sender</th>\n",
       "      <th>channel</th>\n",
       "      <th>date</th>\n",
       "    </tr>\n",
       "  </thead>\n",
       "  <tbody>\n",
       "    <tr>\n",
       "      <th>0</th>\n",
       "      <td>DoctorsET_864</td>\n",
       "      <td>https://youtu.be/5DBoEm-8kmA?si=LDLuEecNfULJVD...</td>\n",
       "      <td>-1001102021238</td>\n",
       "      <td>DoctorsET</td>\n",
       "      <td>2023-12-18 17:04:02+00:00</td>\n",
       "    </tr>\n",
       "    <tr>\n",
       "      <th>1</th>\n",
       "      <td>DoctorsET_863</td>\n",
       "      <td>ዶክተርስ ኢትዮጵያ በ አዲስ አቀራረብ በ ቴሌቪዥን ፕሮግራሙን ለመጀመር ከ...</td>\n",
       "      <td>-1001102021238</td>\n",
       "      <td>DoctorsET</td>\n",
       "      <td>2023-11-03 16:14:39+00:00</td>\n",
       "    </tr>\n",
       "    <tr>\n",
       "      <th>2</th>\n",
       "      <td>DoctorsET_862</td>\n",
       "      <td>ሞት በስኳር \\n\\nለልጆቻችን የምናሲዘው ምሳቃ ሳናቀው እድሚያቸውን ይቀን...</td>\n",
       "      <td>-1001102021238</td>\n",
       "      <td>DoctorsET</td>\n",
       "      <td>2023-10-02 16:37:39+00:00</td>\n",
       "    </tr>\n",
       "    <tr>\n",
       "      <th>3</th>\n",
       "      <td>DoctorsET_861</td>\n",
       "      <td>ከ HIV የተፈወሰ ሰው አጋጥሟችሁ ያቃል ? ፈውስ እና ህክምና ?\\n\\nሙ...</td>\n",
       "      <td>-1001102021238</td>\n",
       "      <td>DoctorsET</td>\n",
       "      <td>2023-09-16 07:54:32+00:00</td>\n",
       "    </tr>\n",
       "    <tr>\n",
       "      <th>4</th>\n",
       "      <td>DoctorsET_860</td>\n",
       "      <td>በቅርብ ጊዜ በሃገራችን ላይ እየተስተዋለ ያለ የተመሳሳይ ፆታ ( Homos...</td>\n",
       "      <td>-1001102021238</td>\n",
       "      <td>DoctorsET</td>\n",
       "      <td>2023-09-01 16:16:15+00:00</td>\n",
       "    </tr>\n",
       "    <tr>\n",
       "      <th>...</th>\n",
       "      <td>...</td>\n",
       "      <td>...</td>\n",
       "      <td>...</td>\n",
       "      <td>...</td>\n",
       "      <td>...</td>\n",
       "    </tr>\n",
       "    <tr>\n",
       "      <th>6471</th>\n",
       "      <td>yetenaweg_9</td>\n",
       "      <td>💥 New Episode \\n💥 አዲስ ወግ</td>\n",
       "      <td>-1001447066276</td>\n",
       "      <td>yetenaweg</td>\n",
       "      <td>2020-02-18 12:02:17+00:00</td>\n",
       "    </tr>\n",
       "    <tr>\n",
       "      <th>6472</th>\n",
       "      <td>yetenaweg_8</td>\n",
       "      <td>አዘጋጆች \\n\\n ዶ/ር ኤርምያስ ካቻ \\n በውስጥ ደዌ ህክምና ስፔሺያለስ...</td>\n",
       "      <td>-1001447066276</td>\n",
       "      <td>yetenaweg</td>\n",
       "      <td>2020-02-17 21:45:20+00:00</td>\n",
       "    </tr>\n",
       "    <tr>\n",
       "      <th>6474</th>\n",
       "      <td>yetenaweg_6</td>\n",
       "      <td>በየሁለት ሳምንቱ እየተዘጋጀ የሚቅርብላችሁ በጤና ላይ የሚያተኩር ፖድካስት...</td>\n",
       "      <td>-1001447066276</td>\n",
       "      <td>yetenaweg</td>\n",
       "      <td>2020-02-17 21:42:39+00:00</td>\n",
       "    </tr>\n",
       "    <tr>\n",
       "      <th>6475</th>\n",
       "      <td>yetenaweg_5</td>\n",
       "      <td>ይህ አዲሱ የኮሮና ቫይረስ በማይክሮስኮፕ ስር ሲታይ ያለው ምስል ነው። ኮ...</td>\n",
       "      <td>-1001447066276</td>\n",
       "      <td>yetenaweg</td>\n",
       "      <td>2020-02-17 20:58:59+00:00</td>\n",
       "    </tr>\n",
       "    <tr>\n",
       "      <th>6476</th>\n",
       "      <td>yetenaweg_4</td>\n",
       "      <td>አዲሱ የኮሮና ቫይረስ (በአዲስ የሳይንስ ስሙ COVID-19) ፣\\nከየት ...</td>\n",
       "      <td>-1001447066276</td>\n",
       "      <td>yetenaweg</td>\n",
       "      <td>2020-02-17 20:55:46+00:00</td>\n",
       "    </tr>\n",
       "  </tbody>\n",
       "</table>\n",
       "<p>5229 rows × 5 columns</p>\n",
       "</div>"
      ],
      "text/plain": [
       "         message_id                                               text  \\\n",
       "0     DoctorsET_864  https://youtu.be/5DBoEm-8kmA?si=LDLuEecNfULJVD...   \n",
       "1     DoctorsET_863  ዶክተርስ ኢትዮጵያ በ አዲስ አቀራረብ በ ቴሌቪዥን ፕሮግራሙን ለመጀመር ከ...   \n",
       "2     DoctorsET_862  ሞት በስኳር \\n\\nለልጆቻችን የምናሲዘው ምሳቃ ሳናቀው እድሚያቸውን ይቀን...   \n",
       "3     DoctorsET_861  ከ HIV የተፈወሰ ሰው አጋጥሟችሁ ያቃል ? ፈውስ እና ህክምና ?\\n\\nሙ...   \n",
       "4     DoctorsET_860  በቅርብ ጊዜ በሃገራችን ላይ እየተስተዋለ ያለ የተመሳሳይ ፆታ ( Homos...   \n",
       "...             ...                                                ...   \n",
       "6471    yetenaweg_9                           💥 New Episode \\n💥 አዲስ ወግ   \n",
       "6472    yetenaweg_8  አዘጋጆች \\n\\n ዶ/ር ኤርምያስ ካቻ \\n በውስጥ ደዌ ህክምና ስፔሺያለስ...   \n",
       "6474    yetenaweg_6  በየሁለት ሳምንቱ እየተዘጋጀ የሚቅርብላችሁ በጤና ላይ የሚያተኩር ፖድካስት...   \n",
       "6475    yetenaweg_5  ይህ አዲሱ የኮሮና ቫይረስ በማይክሮስኮፕ ስር ሲታይ ያለው ምስል ነው። ኮ...   \n",
       "6476    yetenaweg_4  አዲሱ የኮሮና ቫይረስ (በአዲስ የሳይንስ ስሙ COVID-19) ፣\\nከየት ...   \n",
       "\n",
       "             sender    channel                      date  \n",
       "0    -1001102021238  DoctorsET 2023-12-18 17:04:02+00:00  \n",
       "1    -1001102021238  DoctorsET 2023-11-03 16:14:39+00:00  \n",
       "2    -1001102021238  DoctorsET 2023-10-02 16:37:39+00:00  \n",
       "3    -1001102021238  DoctorsET 2023-09-16 07:54:32+00:00  \n",
       "4    -1001102021238  DoctorsET 2023-09-01 16:16:15+00:00  \n",
       "...             ...        ...                       ...  \n",
       "6471 -1001447066276  yetenaweg 2020-02-18 12:02:17+00:00  \n",
       "6472 -1001447066276  yetenaweg 2020-02-17 21:45:20+00:00  \n",
       "6474 -1001447066276  yetenaweg 2020-02-17 21:42:39+00:00  \n",
       "6475 -1001447066276  yetenaweg 2020-02-17 20:58:59+00:00  \n",
       "6476 -1001447066276  yetenaweg 2020-02-17 20:55:46+00:00  \n",
       "\n",
       "[5229 rows x 5 columns]"
      ]
     },
     "execution_count": 12,
     "metadata": {},
     "output_type": "execute_result"
    }
   ],
   "source": [
    "final_df"
   ]
  },
  {
   "cell_type": "markdown",
   "metadata": {},
   "source": [
    "## Insert the Cleaned DataFrame into PostgreSQL"
   ]
  },
  {
   "cell_type": "code",
   "execution_count": 13,
   "metadata": {},
   "outputs": [
    {
     "name": "stderr",
     "output_type": "stream",
     "text": [
      "2025-01-31 02:06:40,835 - INFO - Database connection established successfully.\n",
      "2025-01-31 02:06:40,844 - INFO - Tables successfully created.\n",
      "2025-01-31 02:06:40,844 - INFO - Database connection closed.\n"
     ]
    }
   ],
   "source": [
    "# create_tables()"
   ]
  },
  {
   "cell_type": "code",
   "execution_count": 14,
   "metadata": {},
   "outputs": [
    {
     "name": "stderr",
     "output_type": "stream",
     "text": [
      "2025-01-31 02:06:40,863 - INFO - Database connection established successfully.\n"
     ]
    },
    {
     "name": "stderr",
     "output_type": "stream",
     "text": [
      "2025-01-31 02:06:41,835 - INFO - Data successfully inserted into the PostgreSQL database.\n",
      "2025-01-31 02:06:41,836 - INFO - Database connection closed.\n"
     ]
    }
   ],
   "source": [
    "# Call the function to insert the DataFrame into PostgreSQL\n",
    "insert_dataframe_to_db(final_df)"
   ]
  },
  {
   "cell_type": "code",
   "execution_count": null,
   "metadata": {},
   "outputs": [],
   "source": []
  }
 ],
 "metadata": {
  "kernelspec": {
   "display_name": "venv",
   "language": "python",
   "name": "python3"
  },
  "language_info": {
   "codemirror_mode": {
    "name": "ipython",
    "version": 3
   },
   "file_extension": ".py",
   "mimetype": "text/x-python",
   "name": "python",
   "nbconvert_exporter": "python",
   "pygments_lexer": "ipython3",
   "version": "3.12.3"
  }
 },
 "nbformat": 4,
 "nbformat_minor": 2
}
